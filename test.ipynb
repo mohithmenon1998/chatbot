{
 "cells": [
  {
   "cell_type": "code",
   "execution_count": 1,
   "id": "80139d36",
   "metadata": {},
   "outputs": [
    {
     "name": "stdout",
     "output_type": "stream",
     "text": [
      "<langgraph.graph.state.CompiledStateGraph object at 0x0000025FD0119BE0>\n"
     ]
    }
   ],
   "source": [
    "from langchain_google_genai import ChatGoogleGenerativeAI\n",
    "from langgraph.graph import START,END, StateGraph\n",
    "from langchain_core.messages import BaseMessage, HumanMessage\n",
    "from typing import TypedDict, Annotated\n",
    "from langgraph.graph.message import add_messages\n",
    "from langgraph.checkpoint.memory import InMemorySaver\n",
    "from dotenv import load_dotenv\n",
    "\n",
    "# Load environment variables from .env file\n",
    "load_dotenv()\n",
    "\n",
    "# Initialize the Google Generative AI model\n",
    "model = ChatGoogleGenerativeAI(model= \"gemini-2.0-flash-lite\")\n",
    "\n",
    "# Define the state graph for the chatbot\n",
    "class ChatbotState(TypedDict):\n",
    "    messages: Annotated[list[BaseMessage], add_messages]\n",
    "    \n",
    "def chatbot_result(state: ChatbotState) -> str:\n",
    "    \n",
    "    result = model.invoke(state['messages'])\n",
    "    return {\"messages\": [result]}\n",
    "\n",
    "# Create the state graph\n",
    "graph = StateGraph(ChatbotState)\n",
    "checkpointer = InMemorySaver()\n",
    "\n",
    "graph.add_node(\"chatbot\", chatbot_result)\n",
    "\n",
    "# Start the conversation    \n",
    "graph.add_edge(START, \"chatbot\")\n",
    "graph.add_edge(\"chatbot\", END)\n",
    "\n",
    "# Execute the conversation\n",
    "chatbot = graph.compile(checkpointer= checkpointer)\n"
   ]
  },
  {
   "cell_type": "code",
   "execution_count": 2,
   "id": "8a7215d6",
   "metadata": {},
   "outputs": [
    {
     "data": {
      "image/png": "[encoded data removed]",
      "text/plain": [
       "<langgraph.graph.state.CompiledStateGraph object at 0x0000025FD0119BE0>"
      ]
     },
     "execution_count": 2,
     "metadata": {},
     "output_type": "execute_result"
    }
   ],
   "source": [
    "chatbot"
   ]
  },
  {
   "cell_type": "code",
   "execution_count": null,
   "id": "4df26516",
   "metadata": {},
   "outputs": [],
   "source": [
    "thread_id = 2\n",
    "CONFIG = {'configurable': {'thread_id': thread_id}}\n",
    "# Start the conversation\n",
    "response = chatbot.invoke({\"messages\": \"what are the differences between a sail boat and a steam boat?\"}, config= CONFIG)\n",
    "# print(\"Bot:\", response['messages'][-1].content)\n",
    "\n",
    "\n"
   ]
  }
 ],
 "metadata": {
  "kernelspec": {
   "display_name": "AgenticAiVenv",
   "language": "python",
   "name": "python3"
  },
  "language_info": {
   "codemirror_mode": {
    "name": "ipython",
    "version": 3
   },
   "file_extension": ".py",
   "mimetype": "text/x-python",
   "name": "python",
   "nbconvert_exporter": "python",
   "pygments_lexer": "ipython3",
   "version": "3.13.7"
  }
 },
 "nbformat": 4,
 "nbformat_minor": 5
}
